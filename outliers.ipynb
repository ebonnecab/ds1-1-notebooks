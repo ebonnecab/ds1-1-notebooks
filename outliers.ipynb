{
 "cells": [
  {
   "cell_type": "code",
   "execution_count": 12,
   "metadata": {},
   "outputs": [],
   "source": [
    "import numpy as np\n",
    "\n",
    "def find_remove_outlier(data_sample):\n",
    "    data_mean = sum(data_sample)/len(data_sample)\n",
    "    data_std = np.std(data_sample)\n",
    "    \n",
    "    cut_off = data_std * 3\n",
    "    \n",
    "    lower, upper = data_mean - cut_off, data_mean + cutoff\n",
    "    \n",
    "    outliers = []\n",
    "    removed_outliers = []\n",
    "    \n",
    "    for x in data_sample:\n",
    "        if x < lower or x > upper:\n",
    "            outliers.append(x)\n",
    "        if x > lower and x < upper:\n",
    "            removed_outliers.append(x)\n",
    "    return outliers, outliers_removed\n",
    "        \n",
    "            \n"
   ]
  },
  {
   "cell_type": "code",
   "execution_count": 18,
   "metadata": {},
   "outputs": [],
   "source": [
    "import scipy.stats\n",
    "\n",
    "def find_remove_outlier_iqr(data_sample):\n",
    "    q1 = np.percentile(data_sample, 25)\n",
    "    q3 = np.percentile(data_sample, 75)\n",
    "    \n",
    "    iqr = q3 - q1\n",
    "    \n",
    "    cutoff = iqr * 1.5\n",
    "    \n",
    "    lower, upper = q1-cutoff, q3+cutoff\n",
    "    \n",
    "    outliers =[]\n",
    "    outliers_removed = []\n",
    "    for x in data_sample:\n",
    "        if x < lower or x > upper:\n",
    "            outliers.append(x)\n",
    "        if x > lower and x < upper:\n",
    "            outliers_removed.append(x)\n",
    "    return outliers"
   ]
  },
  {
   "cell_type": "code",
   "execution_count": 20,
   "metadata": {},
   "outputs": [
    {
     "name": "stdout",
     "output_type": "stream",
     "text": [
      "<type 'numpy.ndarray'>\n",
      "[2.233729895371959, -5.0, 11.0, 14.0]\n",
      "1.3320020569559397\n"
     ]
    }
   ],
   "source": [
    "y = np.array([-5, 11, 14])\n",
    "x =  np.concatenate((scipy.stats.norm.rvs(loc=5 , scale=1 , size=100), y))\n",
    "print(type(x))\n",
    "print(find_remove_outlier_iqr(x))\n",
    "print(scipy.stats.iqr(x))\n"
   ]
  },
  {
   "cell_type": "code",
   "execution_count": 22,
   "metadata": {},
   "outputs": [
    {
     "data": {
      "image/png": "[encoded data removed]",
      "text/plain": [
       "<Figure size 432x288 with 1 Axes>"
      ]
     },
     "metadata": {
      "needs_background": "light"
     },
     "output_type": "display_data"
    }
   ],
   "source": [
    "import matplotlib.pyplot as plt\n",
    "\n",
    "plt.boxplot(x)\n",
    "\n",
    "plt.show()"
   ]
  },
  {
   "cell_type": "code",
   "execution_count": null,
   "metadata": {},
   "outputs": [],
   "source": []
  }
 ],
 "metadata": {
  "kernelspec": {
   "display_name": "Python 3",
   "language": "python",
   "name": "python3"
  },
  "language_info": {
   "codemirror_mode": {
    "name": "ipython",
    "version": 2
   },
   "file_extension": ".py",
   "mimetype": "text/x-python",
   "name": "python",
   "nbconvert_exporter": "python",
   "pygments_lexer": "ipython2",
   "version": "2.7.15"
  }
 },
 "nbformat": 4,
 "nbformat_minor": 2
}
