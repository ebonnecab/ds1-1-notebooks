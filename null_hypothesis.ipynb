{
 "cells": [
  {
   "cell_type": "code",
   "execution_count": null,
   "metadata": {},
   "outputs": [],
   "source": [
    "#TAKE NOTES ON PDF,CDF,and Histogram"
   ]
  },
  {
   "cell_type": "code",
   "execution_count": 11,
   "metadata": {},
   "outputs": [],
   "source": [
    "import numpy as np\n",
    "def z_distr():\n",
    "    mean = 60\n",
    "    sigma = 10\n",
    "    x = np.random.normal(mean,sigma, 10000)\n",
    "    z =(x-mean)/sigma\n",
    "    \n",
    "    return z\n",
    "    "
   ]
  },
  {
   "cell_type": "code",
   "execution_count": 12,
   "metadata": {},
   "outputs": [
    {
     "data": {
      "text/plain": [
       "array([-0.1838656 ,  0.12015766, -0.13094107, ..., -0.23405247,\n",
       "       -0.17872542,  1.75515422])"
      ]
     },
     "execution_count": 12,
     "metadata": {},
     "output_type": "execute_result"
    }
   ],
   "source": [
    "z_distr()"
   ]
  },
  {
   "cell_type": "code",
   "execution_count": 13,
   "metadata": {},
   "outputs": [
    {
     "data": {
      "text/plain": [
       "<matplotlib.axes._subplots.AxesSubplot at 0x1a1f66c990>"
      ]
     },
     "execution_count": 13,
     "metadata": {},
     "output_type": "execute_result"
    },
    {
     "data": {
      "image/png": "[encoded data removed]",
      "text/plain": [
       "<Figure size 432x288 with 1 Axes>"
      ]
     },
     "metadata": {
      "needs_background": "light"
     },
     "output_type": "display_data"
    }
   ],
   "source": [
    "import seaborn as sns\n",
    "sns.distplot(z_distr(), hist=True, kde=True, bins=20)"
   ]
  },
  {
   "cell_type": "code",
   "execution_count": 21,
   "metadata": {},
   "outputs": [],
   "source": [
    "#Z-TEST\n",
    "from scipy.stats import norm\n",
    "import numpy as np\n",
    "def accept_reject_null_hypothesis(mu, sample_mean, significance_level, N, sigma):\n",
    "    std_dev = sigma/np.sqrt(N)\n",
    "    \n",
    "    z_score = (sample_mean - mu)/std_dev\n",
    "    \n",
    "    p_value = 2 * norm.sf(numpy.abs(z_score))\n",
    "    \n",
    "    if p_value < significance_level:\n",
    "        print('reject null hypothesis')\n",
    "    else:\n",
    "        print ('accept null hypothesis')"
   ]
  },
  {
   "cell_type": "code",
   "execution_count": 22,
   "metadata": {},
   "outputs": [
    {
     "name": "stdout",
     "output_type": "stream",
     "text": [
      "reject null hypothesis\n"
     ]
    }
   ],
   "source": [
    "accept_reject_null_hypothesis(1.2, 1.05, 0.05, 100, 0.5)"
   ]
  },
  {
   "cell_type": "code",
   "execution_count": 24,
   "metadata": {},
   "outputs": [
    {
     "name": "stdout",
     "output_type": "stream",
     "text": [
      "2.295568968083183\n",
      "(2.295568968083183, 0.04734137339747034)\n"
     ]
    }
   ],
   "source": [
    "#T-TEST\n",
    "from scipy import stats\n",
    "import numpy as np\n",
    "\n",
    "x = [177.3, 182.7, 169.6, 176.3, 180.3, 179.4, 178.5, 177.2, 181.8, 176.5]\n",
    "mu = 175.3\n",
    "sample_mean = np.array(x).mean()\n",
    "N = len(x)\n",
    "\n",
    "S = np.array(x).std(ddof=1)\n",
    "\n",
    "den = S/np.sqrt(N)\n",
    "t = (sample_mean-mu)/den\n",
    "print(t)\n",
    "t, p = stats.ttest_1samp(x, mu)\n",
    "print(t,p)"
   ]
  },
  {
   "cell_type": "code",
   "execution_count": null,
   "metadata": {},
   "outputs": [],
   "source": []
  }
 ],
 "metadata": {
  "kernelspec": {
   "display_name": "Python 3",
   "language": "python",
   "name": "python3"
  },
  "language_info": {
   "codemirror_mode": {
    "name": "ipython",
    "version": 2
   },
   "file_extension": ".py",
   "mimetype": "text/x-python",
   "name": "python",
   "nbconvert_exporter": "python",
   "pygments_lexer": "ipython2",
   "version": "2.7.15"
  }
 },
 "nbformat": 4,
 "nbformat_minor": 2
}
