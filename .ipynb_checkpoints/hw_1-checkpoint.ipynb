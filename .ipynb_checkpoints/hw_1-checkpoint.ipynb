{
 "cells": [
  {
   "cell_type": "code",
   "execution_count": 1,
   "metadata": {},
   "outputs": [],
   "source": [
    "import pandas as pd\n",
    "import numpy as np\n",
    "\n",
    "df = pd.read_csv('titanic.csv')"
   ]
  },
  {
   "cell_type": "code",
   "execution_count": 6,
   "metadata": {},
   "outputs": [
    {
     "name": "stdout",
     "output_type": "stream",
     "text": [
      "{0: 39, 1: 21, 2: 15, 3: 85, 4: 113, 5: 105, 6: 94, 7: 71, 8: 47, 9: 40, 10: 31, 11: 15, 12: 14, 13: 3, 14: 5, 16: 0}\n"
     ]
    }
   ],
   "source": [
    "def histo(lst, interval):\n",
    "    hist = {}\n",
    "    min_ls = np.min(lst)\n",
    "    max_ls = np.max(lst)\n",
    "    I = np.ceil((max_ls - min_ls) / interval)\n",
    "    for j in lst:\n",
    "        i = int(j // I)\n",
    "        if i in hist:\n",
    "            hist[i] += 1\n",
    "        else:\n",
    "            hist[i] = 0\n",
    "    return hist\n",
    "\n",
    "print(histo(df['Age'].dropna().values, 16))"
   ]
  },
  {
   "cell_type": "code",
   "execution_count": null,
   "metadata": {},
   "outputs": [],
   "source": []
  }
 ],
 "metadata": {
  "kernelspec": {
   "display_name": "Python 3",
   "language": "python",
   "name": "python3"
  },
  "language_info": {
   "codemirror_mode": {
    "name": "ipython",
    "version": 2
   },
   "file_extension": ".py",
   "mimetype": "text/x-python",
   "name": "python",
   "nbconvert_exporter": "python",
   "pygments_lexer": "ipython2",
   "version": "2.7.15"
  }
 },
 "nbformat": 4,
 "nbformat_minor": 2
}
