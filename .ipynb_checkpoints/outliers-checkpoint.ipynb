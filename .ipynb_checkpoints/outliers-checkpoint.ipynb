{
 "cells": [
  {
   "cell_type": "code",
   "execution_count": null,
   "metadata": {},
   "outputs": [],
   "source": [
    "import numpy as np\n",
    "\n",
    "def find_remove_outlier(data_sample)\n",
    "    data_mean = sum(data_sample)/len(data_sample)\n",
    "    data_std = np.std(data_sample)\n",
    "    \n",
    "    cut_off = data_std * 3\n",
    "    \n",
    "    lower, upper = data_mean - cut_off, data_mean + cutoff\n",
    "    \n",
    "    outliers = []\n",
    "    removed_outliers = []\n",
    "    \n",
    "    for x in data_sample:\n",
    "        if x < lower or x > upper:\n",
    "            outliers.append(x)\n",
    "        if x > lower or x < upper:\n",
    "            removed_outliers.append(x)\n",
    "        \n",
    "            \n"
   ]
  }
 ],
 "metadata": {
  "kernelspec": {
   "display_name": "Python 3",
   "language": "python",
   "name": "python3"
  },
  "language_info": {
   "codemirror_mode": {
    "name": "ipython",
    "version": 2
   },
   "file_extension": ".py",
   "mimetype": "text/x-python",
   "name": "python",
   "nbconvert_exporter": "python",
   "pygments_lexer": "ipython2",
   "version": "2.7.15"
  }
 },
 "nbformat": 4,
 "nbformat_minor": 2
}
